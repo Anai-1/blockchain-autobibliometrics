{
 "cells": [
  {
   "cell_type": "code",
   "execution_count": 1,
   "id": "5f74119d",
   "metadata": {},
   "outputs": [],
   "source": [
    "import pandas as pd\n",
    "import metaknowledge as mk"
   ]
  },
  {
   "cell_type": "code",
   "execution_count": 2,
   "id": "3b9b9b00",
   "metadata": {},
   "outputs": [
    {
     "data": {
      "text/plain": [
       "<metaknowledge.RecordCollection object files-from-D:\\haveSomeTest\\data>"
      ]
     },
     "execution_count": 2,
     "metadata": {},
     "output_type": "execute_result"
    }
   ],
   "source": [
    "RC = mk.RecordCollection('data')\n",
    "RC"
   ]
  },
  {
   "cell_type": "code",
   "execution_count": 3,
   "id": "913b5cdb",
   "metadata": {},
   "outputs": [],
   "source": [
    "selectedTags = ['TI', 'PY', 'AF', 'RP', 'Z9', 'J9']"
   ]
  },
  {
   "cell_type": "code",
   "execution_count": 4,
   "id": "3c70c3c6",
   "metadata": {},
   "outputs": [],
   "source": [
    "RC.writeCSV(\"title_year_author_instation.csv\", onlyTheseTags = selectedTags)"
   ]
  },
  {
   "cell_type": "code",
   "execution_count": 5,
   "id": "90588fbd",
   "metadata": {},
   "outputs": [],
   "source": [
    "pf = pd.read_csv(\"title_year_author_instation.csv\")"
   ]
  },
  {
   "cell_type": "code",
   "execution_count": 6,
   "id": "044f6f4f",
   "metadata": {},
   "outputs": [
    {
     "name": "stdout",
     "output_type": "stream",
     "text": [
      "<bound method DataFrame.info of                                                       TI  \\\n",
      "0      Proof of usage: user-centric consensus for dat...   \n",
      "1      Blockchain applications for climate protection...   \n",
      "2      Study of integration of block chain and Intern...   \n",
      "3      Achieving fine-grained and flexible access con...   \n",
      "4      GOLIATH: A Decentralized Framework for Data Co...   \n",
      "...                                                  ...   \n",
      "13254  Blockchain Consistency Check Protocol for Impr...   \n",
      "13255  MicroBTC: Efficient, Flexible and Fair Micropa...   \n",
      "13256  5G-BSS: 5G-Based Universal Blockchain Smart Se...   \n",
      "13257  Blockchain-based patient centric health care c...   \n",
      "13258  Tunneling the barriers of blockchain technolog...   \n",
      "\n",
      "                                                      AF      PY  \\\n",
      "0      Masseport, Samuel|Lartigau, Jorick|Darties, Be...  2020.0   \n",
      "1      Dorfleitner, Gregor|Muck, Franziska|Scheckenba...  2021.0   \n",
      "2             Al-Khazaali, Ahmed Ali Talib|Kurnaz, Sefer     NaN   \n",
      "3      Wang, Ruimiao|Wang, Xiaodong|Yang, Wenti|Yuan,...  2022.0   \n",
      "4      Maffiola, Davide|Longari, Stefano|Carminati, M...  2022.0   \n",
      "...                                                  ...     ...   \n",
      "13254                    Alwabel, Mohammed|Kwon, Youngmi  2021.0   \n",
      "13255   Wan, Zhi-Guo|Deng, Robert H.|Lee, David|Li, Ying  2019.0   \n",
      "13256                   Yao, Zhengyi|Tan, Liang|She, Kun  2022.0   \n",
      "13257  Naresh, Vankamamidi S.|Reddi, Sivaranjani|Alla...  2021.0   \n",
      "13258                                   Govindan, Kannan  2022.0   \n",
      "\n",
      "                                                      RP  Z9  \\\n",
      "0      Masseport, S (通讯作者)，Pikcio SAS, Montpellier, F...   2   \n",
      "1      Dorfleitner, G (通讯作者)，Univ Regensburg, Univ St...   1   \n",
      "2      Al-Khazaali, AAT (通讯作者)，Altinbas Univ, Elect &...   1   \n",
      "3      Guan, ZT (通讯作者)，North China Elect Power Univ, ...   0   \n",
      "4      Longari, S (通讯作者)，Politecn Milan, Dipt Elet In...   0   \n",
      "...                                                  ...  ..   \n",
      "13254  Kwon, Y (通讯作者)，Chungnam Natl Univ, Dept Radio ...   4   \n",
      "13255  Wan, ZG (通讯作者)，Shandong Univ, Sch Comp Sci & T...   4   \n",
      "13256  Tan, L (通讯作者)，Sichuan Normal Univ, Coll Comp S...   0   \n",
      "13257  Naresh, VS (通讯作者)，Sri Vasavi Engn Coll, Dept C...   3   \n",
      "13258  Govindan, K (通讯作者)，Shanghai Maritime Univ, Chi...   8   \n",
      "\n",
      "                         J9  num-Authors  num-Male  num-Female  num-Unknown  \n",
      "0            ANN TELECOMMUN            4         3           0            1  \n",
      "1      RENEW SUST ENERG REV            3         1           2            0  \n",
      "2              APPL NANOSCI            2         1           0            1  \n",
      "3              CHINA COMMUN            5         0           0            5  \n",
      "4      IEEE T INTELL TRANSP            5         3           2            0  \n",
      "...                     ...          ...       ...         ...          ...  \n",
      "13254   COMPUT SYST SCI ENG            2         1           0            1  \n",
      "13255  J COMPUT SCI TECH-CH            4         2           0            2  \n",
      "13256         SENSORS-BASEL            3         1           0            2  \n",
      "13257     INT J COMMUN SYST            3         0           0            3  \n",
      "13258   BUS STRATEG ENVIRON            1         1           0            0  \n",
      "\n",
      "[13259 rows x 10 columns]>\n"
     ]
    }
   ],
   "source": [
    "print(pf.info)"
   ]
  },
  {
   "cell_type": "code",
   "execution_count": 7,
   "id": "37266f47",
   "metadata": {},
   "outputs": [
    {
     "name": "stdout",
     "output_type": "stream",
     "text": [
      "Index(['TI', 'AF', 'PY', 'RP', 'Z9', 'J9', 'num-Authors', 'num-Male',\n",
      "       'num-Female', 'num-Unknown'],\n",
      "      dtype='object')\n"
     ]
    }
   ],
   "source": [
    "print(pf.columns)"
   ]
  },
  {
   "cell_type": "code",
   "execution_count": 8,
   "id": "d1d13a68",
   "metadata": {},
   "outputs": [],
   "source": [
    "import numpy as np"
   ]
  },
  {
   "cell_type": "code",
   "execution_count": 9,
   "id": "9e0839ba",
   "metadata": {},
   "outputs": [
    {
     "name": "stdout",
     "output_type": "stream",
     "text": [
      "[2020. 2021.   nan ... 2022. 2021. 2022.]\n"
     ]
    }
   ],
   "source": [
    "year = pf['PY']\n",
    "data1 = np.array(year)\n",
    "data1 = np.delete(data1,np.where(data1 == 2023))\n",
    "print(data1)"
   ]
  },
  {
   "cell_type": "code",
   "execution_count": 10,
   "id": "015703d1",
   "metadata": {},
   "outputs": [
    {
     "name": "stdout",
     "output_type": "stream",
     "text": [
      "13216\n"
     ]
    }
   ],
   "source": [
    "print(len(data1))"
   ]
  },
  {
   "cell_type": "code",
   "execution_count": 11,
   "id": "ad4a4533",
   "metadata": {},
   "outputs": [
    {
     "name": "stdout",
     "output_type": "stream",
     "text": [
      "2022.0\n",
      "1981.0\n"
     ]
    }
   ],
   "source": [
    "print(max(data1))\n",
    "print(min(data1))"
   ]
  },
  {
   "cell_type": "code",
   "execution_count": 12,
   "id": "97aca783",
   "metadata": {},
   "outputs": [
    {
     "name": "stdout",
     "output_type": "stream",
     "text": [
      "1981.0       1\n",
      "1983.0       1\n",
      "1991.0       3\n",
      "1992.0       4\n",
      "1993.0       3\n",
      "1994.0       7\n",
      "1995.0       2\n",
      "1996.0       9\n",
      "1997.0      10\n",
      "1998.0       7\n",
      "1999.0       8\n",
      "2000.0      13\n",
      "2001.0      11\n",
      "2002.0       8\n",
      "2003.0       5\n",
      "2004.0      11\n",
      "2005.0      15\n",
      "2006.0      18\n",
      "2007.0      16\n",
      "2008.0      11\n",
      "2009.0      12\n",
      "2010.0      15\n",
      "2011.0      13\n",
      "2012.0      13\n",
      "2013.0      20\n",
      "2014.0      16\n",
      "2015.0      25\n",
      "2016.0      41\n",
      "2017.0     139\n",
      "2018.0     428\n",
      "2019.0    1152\n",
      "2020.0    2287\n",
      "2021.0    3446\n",
      "2022.0    4656\n",
      "dtype: int64\n"
     ]
    }
   ],
   "source": [
    "counts = pd.value_counts(data1).sort_index(ascending=True)\n",
    "print(counts)"
   ]
  },
  {
   "cell_type": "code",
   "execution_count": 13,
   "id": "1bc231f7",
   "metadata": {},
   "outputs": [
    {
     "data": {
      "text/plain": [
       "<AxesSubplot:>"
      ]
     },
     "execution_count": 13,
     "metadata": {},
     "output_type": "execute_result"
    },
    {
     "data": {
      "image/png": "[encoded data removed]",
      "text/plain": [
       "<Figure size 640x480 with 1 Axes>"
      ]
     },
     "metadata": {},
     "output_type": "display_data"
    }
   ],
   "source": [
    "counts.plot()"
   ]
  },
  {
   "cell_type": "code",
   "execution_count": 14,
   "id": "0fd0e8d2",
   "metadata": {},
   "outputs": [
    {
     "name": "stdout",
     "output_type": "stream",
     "text": [
      "['Masseport, S (通讯作者)，Pikcio SAS, Montpellier, France.; Masseport, S (通讯作者)，Univ Montpellier, CNRS, LIRMM, Montpellier, France.'\n",
      " 'Dorfleitner, G (通讯作者)，Univ Regensburg, Univ Str 31, D-93053 Regensburg, Germany.'\n",
      " 'Al-Khazaali, AAT (通讯作者)，Altinbas Univ, Elect & Comp Engn, Istanbul, Turkey.'\n",
      " ...\n",
      " 'Tan, L (通讯作者)，Sichuan Normal Univ, Coll Comp Sci, Chengdu 610101, Peoples R China.; Tan, L (通讯作者)，Chinese Acad Sci, Inst Comp Sci, Beijing 100190, Peoples R China.'\n",
      " 'Naresh, VS (通讯作者)，Sri Vasavi Engn Coll, Dept Comp Sci & Engn, Tadepalligudeam 534101, Andhra Pradesh, India.'\n",
      " 'Govindan, K (通讯作者)，Shanghai Maritime Univ, China Inst FTZ Supply Chain, Shanghai 201306, Peoples R China.; Govindan, K (通讯作者)，Univ Southern Denmark, Ctr Sustainable Supply Chain Engn, Danish Inst Adv Study, Dept Technol & Innovat, Campusvej 55, Odense M, Denmark.; Govindan, K (通讯作者)，Yonsei Univ, Yonsei Frontier Lab, Seoul, South Korea.']\n"
     ]
    }
   ],
   "source": [
    "institution = pf['RP']\n",
    "data2 = np.array(institution)\n",
    "print(data2)"
   ]
  },
  {
   "cell_type": "code",
   "execution_count": 15,
   "id": "76500d41",
   "metadata": {},
   "outputs": [
    {
     "name": "stdout",
     "output_type": "stream",
     "text": [
      "Aggarwal, S (通讯作者)，Thapar Inst Engn & Technol, Patiala, Punjab, India.                                                                                                                                                                                                                            22\n",
      "Choo, KKR (通讯作者)，Univ Texas San Antonio, Dept Informat Syst & Cyber Secur, San Antonio, TX 78249 USA.                                                                                                                                                                                             19\n",
      "Tanwar, S (通讯作者)，Nirma Univ, Inst Technol, Dept Comp Sci & Engn, Ahmadabad, Gujarat, India.                                                                                                                                                                                                       17\n",
      "Seo, H (通讯作者)，Hansung Univ, Div IT Convergence Engn, Seoul 02876, South Korea.                                                                                                                                                                                                                    14\n",
      "Yaqoob, I (通讯作者)，Khalifa Univ Sci & Technol, Dept Elect Engn & Comp Sci, Abu Dhabi, U Arab Emirates.                                                                                                                                                                                              13\n",
      "                                                                                                                                                                                                                                                                                                  ..\n",
      "Menges, F (通讯作者)，Univ Regensburg, Univ Str 31, D-93053 Regensburg, Germany.                                                                                                                                                                                                                        1\n",
      "Liu, ZY (通讯作者)，Dalian Univ Technol, Sch Econ & Management, Dalian 116024, Peoples R China.                                                                                                                                                                                                         1\n",
      "Ismail, L (通讯作者)，United Arab Emirates Univ, Coll Informat Technol, Dept Comp Sci & Software Engn, Intelligent Distributed Comp & Syst INDUCE Res La, Abu Dhabi 15551, U Arab Emirates.; Ismail, L (通讯作者)，United Arab Emirates Univ, Natl Water & Energy Ctr, Abu Dhabi 15551, U Arab Emirates.     1\n",
      "Si, PB (通讯作者)，Beijing Univ Technol, Beijing Adv Innovat Ctr Future Internet Technol, Beijing 100124, Peoples R China.                                                                                                                                                                              1\n",
      "Ferrandez-Pastor, FJ (通讯作者)，Dept Comp Technol & Computat, Ctra San Vicente Raspeig, Alicante 03690, Alicante, Spain.                                                                                                                                                                               1\n",
      "Length: 11771, dtype: int64\n"
     ]
    }
   ],
   "source": [
    "counts1 = pd.value_counts(data2)\n",
    "print(counts1)"
   ]
  },
  {
   "cell_type": "code",
   "execution_count": 16,
   "id": "8e24c85e",
   "metadata": {
    "scrolled": true
   },
   "outputs": [
    {
     "name": "stdout",
     "output_type": "stream",
     "text": [
      "Aggarwal, S (通讯作者)，Thapar Inst Engn & Technol, Patiala, Punjab, India.                                   22\n",
      "Choo, KKR (通讯作者)，Univ Texas San Antonio, Dept Informat Syst & Cyber Secur, San Antonio, TX 78249 USA.    19\n",
      "Tanwar, S (通讯作者)，Nirma Univ, Inst Technol, Dept Comp Sci & Engn, Ahmadabad, Gujarat, India.              17\n",
      "Seo, H (通讯作者)，Hansung Univ, Div IT Convergence Engn, Seoul 02876, South Korea.                           14\n",
      "Yaqoob, I (通讯作者)，Khalifa Univ Sci & Technol, Dept Elect Engn & Comp Sci, Abu Dhabi, U Arab Emirates.     13\n",
      "Park, JH (通讯作者)，Seoul Natl Univ Sci & Technol, Dept Comp Sci & Engn, Seoul 01811, South Korea.           10\n",
      "Ma, ZF (通讯作者)，Beijing Univ Posts & Telecommun, Sch Cyberspace Secur, Beijing 100876, Peoples R China.    10\n",
      "Nguyen, DC (通讯作者)，Deakin Univ, Sch Engn, Waurn Ponds, Vic 3216, Australia.                                9\n",
      "Park, Y (通讯作者)，Kyungpook Natl Univ, Sch Elect Engn, Daegu 41566, South Korea.                             9\n",
      "Jayaraman, R (通讯作者)，Khalifa Univ Sci & Technol, Dept Ind & Syst Engn, Abu Dhabi, U Arab Emirates.         9\n",
      "dtype: int64\n"
     ]
    }
   ],
   "source": [
    "print(counts1[:10])"
   ]
  },
  {
   "cell_type": "code",
   "execution_count": 17,
   "id": "4e6c08d3",
   "metadata": {},
   "outputs": [
    {
     "name": "stdout",
     "output_type": "stream",
     "text": [
      "                                                      TI  \\\n",
      "6487   Blockchains and Smart Contracts for the Intern...   \n",
      "4139    Industry 4.0: state of the art and future trends   \n",
      "3948   Blockchain challenges and opportunities: a survey   \n",
      "5607   IoT security: Review, blockchain solutions, an...   \n",
      "8635   Blockchain technology and its relationships to...   \n",
      "8395   Where Is Current Research on Blockchain Techno...   \n",
      "10289  Bitcoin and Beyond: A Technical Survey on Dece...   \n",
      "6484   Blockchain technology in the energy sector: A ...   \n",
      "12942                         THE TRUTH ABOUT BLOCKCHAIN   \n",
      "7645   Designing microgrid energy markets A case stud...   \n",
      "9783   On blockchain and its integration with loT. Ch...   \n",
      "8301   Enabling Localized Peer-to-Peer Electricity Tr...   \n",
      "2603   1 Blockchain's roles in meeting key supply cha...   \n",
      "833    Security and Privacy in Decentralized Energy T...   \n",
      "4686   Consortium Blockchain for Secure Energy Tradin...   \n",
      "\n",
      "                                                      AF      PY    Z9  \n",
      "6487     Christidis, Konstantinos|Devetsikiotis, Michael  2016.0  1879  \n",
      "4139                      Xu, Li Da|Xu, Eric L.|Li, Ling  2018.0  1121  \n",
      "3948   Zheng, Zibin|Xie, Shaoan|Dai, Hong-Ning|Chen, ...  2018.0  1090  \n",
      "5607                    Khan, Minhaj Ahmad|Salah, Khaled  2018.0   939  \n",
      "8635   Saberi, Sara|Kouhizadeh, Mahtab|Sarkis, Joseph...  2019.0   890  \n",
      "8395   Yli-Huumo, Jesse|Ko, Deokyoon|Choi, Sujin|Park...  2016.0   769  \n",
      "10289             Tschorsch, Florian|Scheuermann, Bjoern  2016.0   767  \n",
      "6484   Andoni, Merlinda|Robu, Valentin|Flynn, David|A...  2019.0   731  \n",
      "12942                   Lansiti, Marco|Lakhani, Karin R.  2017.0   695  \n",
      "7645   Mengelkamp, Esther|Gaerttner, Johannes|Rock, K...  2018.0   694  \n",
      "9783   Reyna, Ana|Martin, Cristian|Chen, Jaime|Soler,...  2018.0   616  \n",
      "8301   Kang, Jiawen|Yu, Rong|Huang, Xumin|Maharjan, S...  2017.0   606  \n",
      "2603                                        Kshetri, Nir  2018.0   604  \n",
      "833       Aitzhan, Nurzhan Zhumabekuly|Svetinovic, Davor  2018.0   602  \n",
      "4686   Li, Zhetao|Kang, Jiawen|Yu, Rong|Ye, Dongdong|...  2018.0   594  \n"
     ]
    }
   ],
   "source": [
    "pf1 = pd.read_csv(\"title_year_author_instation.csv\", usecols = [0,1,2,4])\n",
    "pf1 = pf1.sort_values(by = 'Z9', ascending=False)\n",
    "print(pf1[:15])"
   ]
  },
  {
   "cell_type": "code",
   "execution_count": 18,
   "id": "8566c5e5",
   "metadata": {},
   "outputs": [
    {
     "name": "stdout",
     "output_type": "stream",
     "text": [
      "           PY                                                 RP\n",
      "0      2020.0  Masseport, S (通讯作者)，Pikcio SAS, Montpellier, F...\n",
      "1      2021.0  Dorfleitner, G (通讯作者)，Univ Regensburg, Univ St...\n",
      "2         NaN  Al-Khazaali, AAT (通讯作者)，Altinbas Univ, Elect &...\n",
      "3      2022.0  Guan, ZT (通讯作者)，North China Elect Power Univ, ...\n",
      "4      2022.0  Longari, S (通讯作者)，Politecn Milan, Dipt Elet In...\n",
      "...       ...                                                ...\n",
      "13254  2021.0  Kwon, Y (通讯作者)，Chungnam Natl Univ, Dept Radio ...\n",
      "13255  2019.0  Wan, ZG (通讯作者)，Shandong Univ, Sch Comp Sci & T...\n",
      "13256  2022.0  Tan, L (通讯作者)，Sichuan Normal Univ, Coll Comp S...\n",
      "13257  2021.0  Naresh, VS (通讯作者)，Sri Vasavi Engn Coll, Dept C...\n",
      "13258  2022.0  Govindan, K (通讯作者)，Shanghai Maritime Univ, Chi...\n",
      "\n",
      "[13259 rows x 2 columns]\n"
     ]
    }
   ],
   "source": [
    "country0 = pd.read_csv(\"title_year_author_instation.csv\", usecols = [2,3])\n",
    "print(country0)"
   ]
  },
  {
   "cell_type": "code",
   "execution_count": 19,
   "id": "342b6f18",
   "metadata": {},
   "outputs": [
    {
     "name": "stdout",
     "output_type": "stream",
     "text": [
      "0        Masseport, S (通讯作者)，Pikcio SAS, Montpellier, F...\n",
      "1        Dorfleitner, G (通讯作者)，Univ Regensburg, Univ St...\n",
      "2        Al-Khazaali, AAT (通讯作者)，Altinbas Univ, Elect &...\n",
      "3        Guan, ZT (通讯作者)，North China Elect Power Univ, ...\n",
      "4        Longari, S (通讯作者)，Politecn Milan, Dipt Elet In...\n",
      "                               ...                        \n",
      "13254    Kwon, Y (通讯作者)，Chungnam Natl Univ, Dept Radio ...\n",
      "13255    Wan, ZG (通讯作者)，Shandong Univ, Sch Comp Sci & T...\n",
      "13256    Tan, L (通讯作者)，Sichuan Normal Univ, Coll Comp S...\n",
      "13257    Naresh, VS (通讯作者)，Sri Vasavi Engn Coll, Dept C...\n",
      "13258    Govindan, K (通讯作者)，Shanghai Maritime Univ, Chi...\n",
      "Name: RP, Length: 13259, dtype: object\n"
     ]
    }
   ],
   "source": [
    "print(country0['RP'])"
   ]
  },
  {
   "cell_type": "code",
   "execution_count": 20,
   "id": "7e4622cf",
   "metadata": {},
   "outputs": [],
   "source": [
    "pf1.to_csv('toppaper1.csv')"
   ]
  },
  {
   "cell_type": "code",
   "execution_count": 21,
   "id": "1a596c8a",
   "metadata": {},
   "outputs": [
    {
     "name": "stdout",
     "output_type": "stream",
     "text": [
      "IEEE ACCESS             1166\n",
      "SENSORS-BASEL            429\n",
      "IEEE INTERNET THINGS     426\n",
      "SUSTAINABILITY-BASEL     375\n",
      "APPL SCI-BASEL           269\n",
      "                        ... \n",
      "COMB CHEM HIGH T SCR       1\n",
      "ELECTRON J STAT            1\n",
      "SOC STUD SCI               1\n",
      "J HIGH ENERGY PHYS         1\n",
      "SYNTHETIC MET              1\n",
      "Length: 1539, dtype: int64\n"
     ]
    }
   ],
   "source": [
    "sourceJournal = pf['J9']\n",
    "Journal = np.array(sourceJournal)\n",
    "journalCounts= pd.value_counts(Journal)\n",
    "print(journalCounts)"
   ]
  },
  {
   "cell_type": "code",
   "execution_count": 22,
   "id": "f4a7c0f2",
   "metadata": {},
   "outputs": [
    {
     "name": "stdout",
     "output_type": "stream",
     "text": [
      "IEEE ACCESS             1166\n",
      "SENSORS-BASEL            429\n",
      "IEEE INTERNET THINGS     426\n",
      "SUSTAINABILITY-BASEL     375\n",
      "APPL SCI-BASEL           269\n",
      "SECUR COMMUN NETW        265\n",
      "ELECTRONICS-SWITZ        234\n",
      "WIREL COMMUN MOB COM     200\n",
      "IEEE T IND INFORM        183\n",
      "FUTURE GENER COMP SY     150\n",
      "ENERGIES                 138\n",
      "IEEE NETWORK             132\n",
      "PEER PEER NETW APPL      118\n",
      "IEEE T VEH TECHNOL       105\n",
      "CONCURR COMP-PRACT E     101\n",
      "dtype: int64\n"
     ]
    }
   ],
   "source": [
    "print(journalCounts[:15])"
   ]
  },
  {
   "cell_type": "code",
   "execution_count": null,
   "id": "21a6aecc",
   "metadata": {},
   "outputs": [],
   "source": []
  }
 ],
 "metadata": {
  "kernelspec": {
   "display_name": "Python 3 (ipykernel)",
   "language": "python",
   "name": "python3"
  },
  "language_info": {
   "codemirror_mode": {
    "name": "ipython",
    "version": 3
   },
   "file_extension": ".py",
   "mimetype": "text/x-python",
   "name": "python",
   "nbconvert_exporter": "python",
   "pygments_lexer": "ipython3",
   "version": "3.7.9"
  }
 },
 "nbformat": 4,
 "nbformat_minor": 5
}
