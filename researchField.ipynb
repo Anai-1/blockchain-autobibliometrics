{
 "cells": [
  {
   "cell_type": "code",
   "execution_count": 1,
   "id": "46f0ddb9",
   "metadata": {},
   "outputs": [],
   "source": [
    "import pandas as pd\n",
    "import metaknowledge as mk"
   ]
  },
  {
   "cell_type": "code",
   "execution_count": 2,
   "id": "2a65811e",
   "metadata": {},
   "outputs": [],
   "source": [
    "RC = mk.RecordCollection('data')"
   ]
  },
  {
   "cell_type": "code",
   "execution_count": 5,
   "id": "e1090e1a",
   "metadata": {},
   "outputs": [],
   "source": [
    "import numpy as np\n",
    "df_1 = pd.read_csv('reasearchFieldSplit.csv')\n",
    "researchField = df_1.pivot_table(index=['SC','PY'],values=['sum'],aggfunc={'sum':np.sum},fill_value=0)\n",
    "researchField.to_excel('researchFieldSplit.xlsx')\n",
    "#readResearchField = pd.read_excel('testSplit.xlsx')"
   ]
  },
  {
   "cell_type": "code",
   "execution_count": 6,
   "id": "d6614752",
   "metadata": {},
   "outputs": [],
   "source": [
    "rF = df_1['SC']\n",
    "top10Field = rF.value_counts()[:10]"
   ]
  },
  {
   "cell_type": "code",
   "execution_count": 7,
   "id": "ac4d01fe",
   "metadata": {},
   "outputs": [
    {
     "name": "stdout",
     "output_type": "stream",
     "text": [
      "Computer Science                       6557\n",
      "Engineering                            1124\n",
      "Business & Economics                   1012\n",
      "Chemistry                               821\n",
      "Science & Technology - Other Topics     746\n",
      "Automation & Control Systems            316\n",
      "Telecommunications                      293\n",
      "Energy & Fuels                          278\n",
      "Mathematics                             207\n",
      "Polymer Science                         165\n",
      "Name: SC, dtype: int64\n"
     ]
    }
   ],
   "source": [
    "print(top10Field)"
   ]
  },
  {
   "cell_type": "code",
   "execution_count": null,
   "id": "f2480f41",
   "metadata": {},
   "outputs": [],
   "source": []
  }
 ],
 "metadata": {
  "kernelspec": {
   "display_name": "Python 3 (ipykernel)",
   "language": "python",
   "name": "python3"
  },
  "language_info": {
   "codemirror_mode": {
    "name": "ipython",
    "version": 3
   },
   "file_extension": ".py",
   "mimetype": "text/x-python",
   "name": "python",
   "nbconvert_exporter": "python",
   "pygments_lexer": "ipython3",
   "version": "3.7.9 (tags/v3.7.9:13c94747c7, Aug 17 2020, 18:58:18) [MSC v.1900 64 bit (AMD64)]"
  },
  "vscode": {
   "interpreter": {
    "hash": "fa9a3680060643f95ced80fd5e4c2507d080642da8c505d407ae48be18e7bcf5"
   }
  }
 },
 "nbformat": 4,
 "nbformat_minor": 5
}
