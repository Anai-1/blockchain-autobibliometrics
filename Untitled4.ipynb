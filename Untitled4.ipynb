{
 "cells": [
  {
   "cell_type": "code",
   "execution_count": 1,
   "id": "3e0e6410",
   "metadata": {},
   "outputs": [],
   "source": [
    "import jieba\n",
    "import os\n",
    "import re\n",
    "import numpy as np\n",
    "import jieba.posseg as psg\n",
    "import networkx as nx\n",
    "import pandas as pd\n",
    "os.chdir('abstract')"
   ]
  },
  {
   "cell_type": "code",
   "execution_count": 2,
   "id": "60ae1100",
   "metadata": {},
   "outputs": [],
   "source": [
    "def get_stop_dic(file):\n",
    "    content = open(file, encoding = 'utf-8')\n",
    "    word_list = []\n",
    "    for c in content:\n",
    "        c = re.sub('\\n|\\r','',c)\n",
    "        word_list.append(c)\n",
    "    return word_list"
   ]
  },
  {
   "cell_type": "code",
   "execution_count": 3,
   "id": "9bb80506",
   "metadata": {},
   "outputs": [],
   "source": [
    "def get_data(path):\n",
    "    t = open(path, encoding = 'utf-8')\n",
    "    data = t.read()\n",
    "    t.close()\n",
    "    return data"
   ]
  },
  {
   "cell_type": "code",
   "execution_count": 4,
   "id": "293e1972",
   "metadata": {},
   "outputs": [],
   "source": [
    "def get_word_list(text,maxn,synonym_words,stop_words):\n",
    "    synonym_origin = list(synonym_words['origin'])\n",
    "    synonym_new = list(synonym_words['new'])\n",
    "    flag_list = ['n', 'nz', 'vn']\n",
    "    counts = {}\n",
    "    \n",
    "    text_seg = psg.cut(text)\n",
    "    for word_flag in text_seg:\n",
    "        word = word_flag.word\n",
    "        if word_flag.flag in flag_list and len(word)>1 and word not in stop_words:\n",
    "            if word in synonym_origin:\n",
    "                index = synonym_oringin.index(word)\n",
    "                word = synonym_new[index]\n",
    "            counts[word] = counts.get(word, 0) + 1\n",
    "        \n",
    "    words = sorted(counts.item(),key = lambda x:x[1],reverse=True)\n",
    "    words = list(dict(words).keys())[0:maxn]\n",
    "    \n",
    "    return words"
   ]
  },
  {
   "cell_type": "code",
   "execution_count": 5,
   "id": "2f925421",
   "metadata": {},
   "outputs": [],
   "source": [
    "def get_t_seg(topwords,text,synonym_words,stop_words):\n",
    "    synonym_origin = list(synonym_words['origin'])\n",
    "    synonym_new = list(synonym_words['new'])\n",
    "    flag_list = ['n','nz','vn']#a,形容词，v,形容词\n",
    "    \n",
    "    text_lines_seg =[]\n",
    "    text_lines = text.split(\"\\n\")\n",
    "    for line in text_lines:\n",
    "        t_seg = []\n",
    "        text_seg = psg.cut(line)\n",
    "        for word_flag in text_seg:\n",
    "            #word = re.sub(\"[^\\u4e00-\\u9fa5]\",\"\",word_flag.word)\n",
    "            word = word_flag.word\n",
    "            if word_flag.flag in flag_list and len(word)>1 and word not in stop_words:\n",
    "                if word in synonym_origin:\n",
    "                    word = synonym_new[synonym_origin.index(word)]\n",
    "                if word in topwords:\n",
    "                    t_seg.append(word)\n",
    "        t_seg=list(set(t_seg))\n",
    "        text_lines_seg.append(t_seg)\n",
    "    return text_lines_seg"
   ]
  },
  {
   "cell_type": "code",
   "execution_count": 6,
   "id": "3926036e",
   "metadata": {},
   "outputs": [],
   "source": [
    "def get_comatrix(text_lines_seg):\n",
    "    comatrix = pd.DataFrame(np.zeros([len(topwords),len(topwords)]),columns=topwords,index=topwords)\n",
    "    for t_seg in text_lines_seg:\n",
    "        for i in range(len(t_seg)-1):\n",
    "                for j in range(i+1,len(t_seg)):\n",
    "                    comatrix.loc[t_seg[i],t_seg[j]]+=1\n",
    "    for k in range(len(comatrix)):\n",
    "        comatrix.iloc[k,k]=0\n",
    "    return comatrix"
   ]
  },
  {
   "cell_type": "code",
   "execution_count": 7,
   "id": "4dc61db4",
   "metadata": {},
   "outputs": [],
   "source": [
    "def get_net(co_matrix,topwords):\n",
    "    g = nx.Graph()\n",
    "    for i in range(len(topwords)-1):\n",
    "        word = topwords[i]\n",
    "        for j in range(i+1,len(topwords)):\n",
    "            w=0\n",
    "            word2 = topwords[j]\n",
    "            w = co_matrix.loc[word][word2]+co_matrix.loc[word2][word]\n",
    "            if w>0:\n",
    "                g.add_edge(word,word2,weight=w)\n",
    "    return g"
   ]
  },
  {
   "cell_type": "code",
   "execution_count": 8,
   "id": "b47de876",
   "metadata": {},
   "outputs": [],
   "source": [
    "#文件路径\n",
    "dic_file = \"abstract/stop_dic/dict.txt\"\n",
    "stop_file = \"abstract/stop_dic/stopwords.txt\"\n",
    "data_path = \"abstract/data/data.txt\"\n",
    "synonym_file = \"abstract/stop_dic/synonym_list.xlsx\""
   ]
  },
  {
   "cell_type": "code",
   "execution_count": 11,
   "id": "bc83ec2a",
   "metadata": {},
   "outputs": [
    {
     "ename": "FileNotFoundError",
     "evalue": "[Errno 2] No such file or directory: 'abstract/data/data.txt'",
     "output_type": "error",
     "traceback": [
      "\u001b[1;31m---------------------------------------------------------------------------\u001b[0m",
      "\u001b[1;31mFileNotFoundError\u001b[0m                         Traceback (most recent call last)",
      "\u001b[1;32m~\\AppData\\Local\\Temp\\ipykernel_26780\\1356717005.py\u001b[0m in \u001b[0;36m<module>\u001b[1;34m\u001b[0m\n\u001b[0;32m      1\u001b[0m \u001b[1;31m#读取文件\u001b[0m\u001b[1;33m\u001b[0m\u001b[1;33m\u001b[0m\u001b[1;33m\u001b[0m\u001b[0m\n\u001b[1;32m----> 2\u001b[1;33m \u001b[0mdata\u001b[0m \u001b[1;33m=\u001b[0m \u001b[0mget_data\u001b[0m\u001b[1;33m(\u001b[0m\u001b[0mdata_path\u001b[0m\u001b[1;33m)\u001b[0m\u001b[1;33m\u001b[0m\u001b[1;33m\u001b[0m\u001b[0m\n\u001b[0m\u001b[0;32m      3\u001b[0m \u001b[0mstop_words\u001b[0m \u001b[1;33m=\u001b[0m \u001b[0mget_stop_dict\u001b[0m\u001b[1;33m(\u001b[0m\u001b[0mstop_file\u001b[0m\u001b[1;33m)\u001b[0m\u001b[1;33m\u001b[0m\u001b[1;33m\u001b[0m\u001b[0m\n\u001b[0;32m      4\u001b[0m \u001b[0mjieba\u001b[0m\u001b[1;33m.\u001b[0m\u001b[0mload_userdict\u001b[0m\u001b[1;33m(\u001b[0m\u001b[0mdic_file\u001b[0m\u001b[1;33m)\u001b[0m\u001b[1;33m\u001b[0m\u001b[1;33m\u001b[0m\u001b[0m\n\u001b[0;32m      5\u001b[0m \u001b[0msynonym_words\u001b[0m \u001b[1;33m=\u001b[0m \u001b[0mpd\u001b[0m\u001b[1;33m.\u001b[0m\u001b[0mread_excel\u001b[0m\u001b[1;33m(\u001b[0m\u001b[0msynonym_file\u001b[0m\u001b[1;33m)\u001b[0m\u001b[1;33m\u001b[0m\u001b[1;33m\u001b[0m\u001b[0m\n",
      "\u001b[1;32m~\\AppData\\Local\\Temp\\ipykernel_26780\\3644624406.py\u001b[0m in \u001b[0;36mget_data\u001b[1;34m(path)\u001b[0m\n\u001b[0;32m      1\u001b[0m \u001b[1;32mdef\u001b[0m \u001b[0mget_data\u001b[0m\u001b[1;33m(\u001b[0m\u001b[0mpath\u001b[0m\u001b[1;33m)\u001b[0m\u001b[1;33m:\u001b[0m\u001b[1;33m\u001b[0m\u001b[1;33m\u001b[0m\u001b[0m\n\u001b[1;32m----> 2\u001b[1;33m     \u001b[0mt\u001b[0m \u001b[1;33m=\u001b[0m \u001b[0mopen\u001b[0m\u001b[1;33m(\u001b[0m\u001b[0mpath\u001b[0m\u001b[1;33m,\u001b[0m \u001b[0mencoding\u001b[0m \u001b[1;33m=\u001b[0m \u001b[1;34m'utf-8'\u001b[0m\u001b[1;33m)\u001b[0m\u001b[1;33m\u001b[0m\u001b[1;33m\u001b[0m\u001b[0m\n\u001b[0m\u001b[0;32m      3\u001b[0m     \u001b[0mdata\u001b[0m \u001b[1;33m=\u001b[0m \u001b[0mt\u001b[0m\u001b[1;33m.\u001b[0m\u001b[0mread\u001b[0m\u001b[1;33m(\u001b[0m\u001b[1;33m)\u001b[0m\u001b[1;33m\u001b[0m\u001b[1;33m\u001b[0m\u001b[0m\n\u001b[0;32m      4\u001b[0m     \u001b[0mt\u001b[0m\u001b[1;33m.\u001b[0m\u001b[0mclose\u001b[0m\u001b[1;33m(\u001b[0m\u001b[1;33m)\u001b[0m\u001b[1;33m\u001b[0m\u001b[1;33m\u001b[0m\u001b[0m\n\u001b[0;32m      5\u001b[0m     \u001b[1;32mreturn\u001b[0m \u001b[0mdata\u001b[0m\u001b[1;33m\u001b[0m\u001b[1;33m\u001b[0m\u001b[0m\n",
      "\u001b[1;31mFileNotFoundError\u001b[0m: [Errno 2] No such file or directory: 'abstract/data/data.txt'"
     ]
    }
   ],
   "source": [
    "#读取文件\n",
    "data = get_data(data_path)\n",
    "stop_words = get_stop_dict(stop_file)\n",
    "jieba.load_userdict(dic_file)\n",
    "synonym_words = pd.read_excel(synonym_file)"
   ]
  },
  {
   "cell_type": "code",
   "execution_count": null,
   "id": "891afa01",
   "metadata": {},
   "outputs": [],
   "source": []
  }
 ],
 "metadata": {
  "kernelspec": {
   "display_name": "Python 3 (ipykernel)",
   "language": "python",
   "name": "python3"
  },
  "language_info": {
   "codemirror_mode": {
    "name": "ipython",
    "version": 3
   },
   "file_extension": ".py",
   "mimetype": "text/x-python",
   "name": "python",
   "nbconvert_exporter": "python",
   "pygments_lexer": "ipython3",
   "version": "3.7.9"
  }
 },
 "nbformat": 4,
 "nbformat_minor": 5
}
