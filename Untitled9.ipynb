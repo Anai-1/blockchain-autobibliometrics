{
 "cells": [
  {
   "cell_type": "code",
   "execution_count": 1,
   "id": "607e6520",
   "metadata": {},
   "outputs": [],
   "source": [
    "import pandas as pd\n",
    "\n",
    "df = pd.read_csv('topKeywords.csv')\n",
    "df.dropna(inplace=True)\n",
    "df.reset_index(drop=True, inplace=True)\n",
    "df.to_csv('newClean_topKeywords.csv', index=False)"
   ]
  },
  {
   "cell_type": "code",
   "execution_count": 2,
   "id": "a6bb4966",
   "metadata": {},
   "outputs": [],
   "source": [
    "import pandas as pd\n",
    "\n",
    "# 读取CSV文件\n",
    "df = pd.read_csv('newClean_topKeywords.csv')\n",
    "\n",
    "# 将第二列分隔并扩展为数据框列\n",
    "df_values = df.iloc[:, 1].str.split('|', expand=True)\n",
    "\n",
    "# 将扩展列与第一列连接\n",
    "df_result = pd.concat([df.iloc[:, 0], df_values], axis=1)\n",
    "\n",
    "# 将结果保存为CSV文件\n",
    "df_result.to_csv('newSplit_topKeywords.csv', index=False)"
   ]
  },
  {
   "cell_type": "code",
   "execution_count": 3,
   "id": "152b19e0",
   "metadata": {},
   "outputs": [],
   "source": [
    "import pandas as pd\n",
    "\n",
    "# 读取CSV文件\n",
    "df = pd.read_csv('newSplit_topKeywords.csv')\n",
    "\n",
    "# 创建一个空列表用于保存分词结果\n",
    "new_column = []\n",
    "\n",
    "# 遍历每一行数据\n",
    "for i in range(len(df)):\n",
    "    # 获取第一列（PY列）的值\n",
    "    py_value = df.iloc[i, 0]\n",
    "    # 将后面所有列的值拼接成一个字符串，并使用空格分隔符\n",
    "    words = ' '.join(df.iloc[i, 1:].astype(str).values.tolist())\n",
    "    # 将拼接后的字符串加入到新列表中\n",
    "    new_column.append(words)\n",
    "    \n",
    "# 将新列表添加到数据框中作为第二列\n",
    "df['New Column'] = new_column\n",
    "\n",
    "# 保存更改后的数据框为CSV文件\n",
    "df.to_csv('newSplit_topKeywords1.csv', index=False)"
   ]
  },
  {
   "cell_type": "code",
   "execution_count": 5,
   "id": "d2541ae5",
   "metadata": {},
   "outputs": [],
   "source": [
    "import pandas as pd\n",
    "\n",
    "# 读取数据\n",
    "df = pd.read_csv(\"newClean_topKeywords.csv\", header=None)\n",
    "\n",
    "# 将第一列数据转换为数值类型\n",
    "df[0] = pd.to_numeric(df[0], errors='coerce')\n",
    "\n",
    "# 分组\n",
    "group1 = df[df[0] <= 2015]\n",
    "group2 = df[(df[0] > 2015) & (df[0] <= 2019)]\n",
    "group3 = df[df[0] > 2019]\n",
    "\n",
    "# 将分组后的数据保存为三个文件\n",
    "group1.to_csv(\"1981-2015.csv\", header=None, index=None)\n",
    "group2.to_csv(\"2016-2019.csv\", header=None, index=None)\n",
    "group3.to_csv(\"2020-2022.csv\", header=None, index=None)"
   ]
  },
  {
   "cell_type": "code",
   "execution_count": 13,
   "id": "c4bf781c",
   "metadata": {},
   "outputs": [
    {
     "name": "stdout",
     "output_type": "stream",
     "text": [
      "这是1981-2015年的高频关键词\n",
      "block       249\n",
      "copolymer   114\n",
      "poly        108\n",
      "copolymers   69\n",
      "structure    57\n",
      "chain        51\n",
      "self         48\n",
      "security     45\n",
      "assembly     42\n",
      "cipher       39\n",
      "acid         30\n"
     ]
    }
   ],
   "source": [
    "#读取csv，保存到新建txt中\n",
    "data = pd.read_csv('1981-2015.csv', encoding='utf-8')\n",
    "with open('1981-2015.txt','a+', encoding='utf-8') as f:\n",
    "    for line in data.values:\n",
    "        #str(line[0])：csv中第0列；'\\n'：读取csv每行后在txt中换行\n",
    "        f.write((str(line[1])+'\\n'))\n",
    "\n",
    "def getText():\n",
    "    txt = open(\"1981-2015.txt\", \"r\").read()   #读取Hamlet文本文件，并返回给txt\n",
    "    txt = txt.lower()          #将文件中的单词全部变为小写\n",
    "    for ch in '!\"#$%&()*+,-./:;<=>?@[\\\\]^_‘{|}~': \n",
    "        txt = txt.replace(ch, \" \")   #将文本中特殊字符替换为空格\n",
    "    return txt\n",
    " \n",
    "hamletTxt = getText()\n",
    "words  = hamletTxt.split() #按照空格，将文本分割\n",
    "counts = {}\n",
    "for word in words:  #统计单词出现的次数，并存储到counts字典中         \n",
    "    counts[word] = counts.get(word,0) + 1  #先给字典赋值，如果字典中没有word这个键，则返回0\n",
    "items = list(counts.items())   #将字典转换为列表，以便操作\n",
    "items.sort(key=lambda x:x[1], reverse=True)  # 见下面函数讲解\n",
    "print('这是1981-2015年的高频关键词')\n",
    "for i in range(11):\n",
    "    word, count = items[i]\n",
    "    print (\"{0:<10}{1:>5}\".format(word, count))"
   ]
  },
  {
   "cell_type": "code",
   "execution_count": 14,
   "id": "842b9c61",
   "metadata": {},
   "outputs": [
    {
     "name": "stdout",
     "output_type": "stream",
     "text": [
      "这是2016-2019年的高频关键词\n",
      "blockchain 2156\n",
      "of          568\n",
      "smart       560\n",
      "internet    458\n",
      "data        440\n",
      "security    410\n",
      "things      370\n",
      "computing   308\n",
      "distributed  306\n",
      "privacy     300\n",
      "technology  284\n"
     ]
    }
   ],
   "source": [
    "#读取csv，保存到新建txt中\n",
    "data = pd.read_csv('2016-2019.csv', encoding='utf-8')\n",
    "with open('2016-2019.txt','a+', encoding='utf-8') as f:\n",
    "    for line in data.values:\n",
    "        #str(line[0])：csv中第0列；'\\n'：读取csv每行后在txt中换行\n",
    "        f.write((str(line[1])+'\\n'))\n",
    "\n",
    "def getText():\n",
    "    txt = open(\"2016-2019.txt\", \"r\").read()   #读取Hamlet文本文件，并返回给txt\n",
    "    txt = txt.lower()          #将文件中的单词全部变为小写\n",
    "    for ch in '!\"#$%&()*+,-./:;<=>?@[\\\\]^_‘{|}~': \n",
    "        txt = txt.replace(ch, \" \")   #将文本中特殊字符替换为空格\n",
    "    return txt\n",
    " \n",
    "hamletTxt = getText()\n",
    "words  = hamletTxt.split() #按照空格，将文本分割\n",
    "counts = {}\n",
    "for word in words:  #统计单词出现的次数，并存储到counts字典中         \n",
    "    counts[word] = counts.get(word,0) + 1  #先给字典赋值，如果字典中没有word这个键，则返回0\n",
    "items = list(counts.items())   #将字典转换为列表，以便操作\n",
    "items.sort(key=lambda x:x[1], reverse=True)  # 见下面函数讲解\n",
    "print('这是2016-2019年的高频关键词')\n",
    "for i in range(11):\n",
    "    word, count = items[i]\n",
    "    print (\"{0:<10}{1:>5}\".format(word, count))"
   ]
  },
  {
   "cell_type": "code",
   "execution_count": 15,
   "id": "a817ecfd",
   "metadata": {},
   "outputs": [
    {
     "name": "stdout",
     "output_type": "stream",
     "text": [
      "这是2020-2022年的高频关键词\n",
      "blockchain14314\n",
      "smart      4682\n",
      "of         4568\n",
      "security   3852\n",
      "internet   3702\n",
      "data       3480\n",
      "things     3176\n",
      "computing  3030\n",
      "privacy    2958\n",
      "learning   2204\n",
      "management 2058\n"
     ]
    }
   ],
   "source": [
    "#读取csv，保存到新建txt中\n",
    "data = pd.read_csv('2020-2022.csv', encoding='utf-8')\n",
    "with open('2020-2022.txt','a+', encoding='utf-8') as f:\n",
    "    for line in data.values:\n",
    "        #str(line[0])：csv中第0列；'\\n'：读取csv每行后在txt中换行\n",
    "        f.write((str(line[1])+'\\n'))\n",
    "\n",
    "def getText():\n",
    "    txt = open(\"2020-2022.txt\", \"r\").read()   #读取Hamlet文本文件，并返回给txt\n",
    "    txt = txt.lower()          #将文件中的单词全部变为小写\n",
    "    for ch in '!\"#$%&()*+,-./:;<=>?@[\\\\]^_‘{|}~': \n",
    "        txt = txt.replace(ch, \" \")   #将文本中特殊字符替换为空格\n",
    "    return txt\n",
    " \n",
    "hamletTxt = getText()\n",
    "words  = hamletTxt.split() #按照空格，将文本分割\n",
    "counts = {}\n",
    "for word in words:  #统计单词出现的次数，并存储到counts字典中         \n",
    "    counts[word] = counts.get(word,0) + 1  #先给字典赋值，如果字典中没有word这个键，则返回0\n",
    "items = list(counts.items())   #将字典转换为列表，以便操作\n",
    "items.sort(key=lambda x:x[1], reverse=True)  # 见下面函数讲解\n",
    "print('这是2020-2022年的高频关键词')\n",
    "for i in range(11):\n",
    "    word, count = items[i]\n",
    "    print (\"{0:<10}{1:>5}\".format(word, count))"
   ]
  },
  {
   "cell_type": "code",
   "execution_count": null,
   "id": "02501f14",
   "metadata": {},
   "outputs": [],
   "source": []
  }
 ],
 "metadata": {
  "kernelspec": {
   "display_name": "Python 3",
   "language": "python",
   "name": "python3"
  },
  "language_info": {
   "codemirror_mode": {
    "name": "ipython",
    "version": 3
   },
   "file_extension": ".py",
   "mimetype": "text/x-python",
   "name": "python",
   "nbconvert_exporter": "python",
   "pygments_lexer": "ipython3",
   "version": "3.7.9 (tags/v3.7.9:13c94747c7, Aug 17 2020, 18:58:18) [MSC v.1900 64 bit (AMD64)]"
  },
  "vscode": {
   "interpreter": {
    "hash": "fa9a3680060643f95ced80fd5e4c2507d080642da8c505d407ae48be18e7bcf5"
   }
  }
 },
 "nbformat": 4,
 "nbformat_minor": 5
}
