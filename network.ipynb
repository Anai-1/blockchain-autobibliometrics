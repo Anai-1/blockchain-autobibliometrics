{
 "cells": [
  {
   "cell_type": "code",
   "execution_count": 1,
   "id": "234358c0",
   "metadata": {},
   "outputs": [],
   "source": [
    "import metaknowledge as mk\n",
    "import networkx as nx"
   ]
  },
  {
   "cell_type": "code",
   "execution_count": 2,
   "id": "41612b1d",
   "metadata": {},
   "outputs": [],
   "source": [
    "import matplotlib.pyplot as plt\n",
    "%matplotlib inline\n",
    "import metaknowledge.contour.plotting as mkv"
   ]
  },
  {
   "cell_type": "code",
   "execution_count": 3,
   "id": "516d9567",
   "metadata": {},
   "outputs": [],
   "source": [
    "RC = mk.RecordCollection('data')"
   ]
  },
  {
   "cell_type": "code",
   "execution_count": null,
   "id": "9589d354",
   "metadata": {},
   "outputs": [],
   "source": [
    "coCiteJournals = RC.networkCoCitation(nodeType = 'journal', dropNonJournals = True)\n",
    "print(mk.graphStats(coCiteJournals))\n",
    "nx.draw_spring(coCiteJournals)"
   ]
  },
  {
   "cell_type": "code",
   "execution_count": null,
   "id": "7155dc63",
   "metadata": {},
   "outputs": [],
   "source": []
  }
 ],
 "metadata": {
  "kernelspec": {
   "display_name": "Python 3",
   "language": "python",
   "name": "python3"
  },
  "language_info": {
   "codemirror_mode": {
    "name": "ipython",
    "version": 3
   },
   "file_extension": ".py",
   "mimetype": "text/x-python",
   "name": "python",
   "nbconvert_exporter": "python",
   "pygments_lexer": "ipython3",
   "version": "3.7.9 (tags/v3.7.9:13c94747c7, Aug 17 2020, 18:58:18) [MSC v.1900 64 bit (AMD64)]"
  },
  "vscode": {
   "interpreter": {
    "hash": "fa9a3680060643f95ced80fd5e4c2507d080642da8c505d407ae48be18e7bcf5"
   }
  }
 },
 "nbformat": 4,
 "nbformat_minor": 5
}
