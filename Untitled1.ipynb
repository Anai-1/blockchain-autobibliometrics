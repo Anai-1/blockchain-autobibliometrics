{
 "cells": [
  {
   "cell_type": "code",
   "execution_count": null,
   "id": "63a37aca",
   "metadata": {},
   "outputs": [],
   "source": [
    "import metaknowledge as mk"
   ]
  },
  {
   "cell_type": "code",
   "execution_count": null,
   "id": "170e7787",
   "metadata": {},
   "outputs": [],
   "source": [
    "RC = mk.RecordCollection(\"data.txt\")"
   ]
  },
  {
   "cell_type": "code",
   "execution_count": 1,
   "id": "faeb6998",
   "metadata": {},
   "outputs": [
    {
     "ename": "NameError",
     "evalue": "name 'RC' is not defined",
     "output_type": "error",
     "traceback": [
      "\u001b[1;31m---------------------------------------------------------------------------\u001b[0m",
      "\u001b[1;31mNameError\u001b[0m                                 Traceback (most recent call last)",
      "\u001b[1;32m~\\AppData\\Local\\Temp\\ipykernel_12484\\653162625.py\u001b[0m in \u001b[0;36m<module>\u001b[1;34m\u001b[0m\n\u001b[1;32m----> 1\u001b[1;33m \u001b[0mprint\u001b[0m\u001b[1;33m(\u001b[0m\u001b[0mRC\u001b[0m\u001b[1;33m)\u001b[0m\u001b[1;33m\u001b[0m\u001b[1;33m\u001b[0m\u001b[0m\n\u001b[0m",
      "\u001b[1;31mNameError\u001b[0m: name 'RC' is not defined"
     ]
    }
   ],
   "source": [
    "print(RC)"
   ]
  },
  {
   "cell_type": "code",
   "execution_count": 2,
   "id": "64d84e3a",
   "metadata": {},
   "outputs": [
    {
     "name": "stdout",
     "output_type": "stream",
     "text": [
      "RecordCollection(data)\n"
     ]
    }
   ],
   "source": [
    "import metaknowledge as mk\n",
    "RC = mk.RecordCollection(\"data.txt\")\n",
    "print(RC)"
   ]
  },
  {
   "cell_type": "code",
   "execution_count": null,
   "id": "c18bc24a",
   "metadata": {},
   "outputs": [],
   "source": []
  },
  {
   "cell_type": "code",
   "execution_count": 3,
   "id": "6e70305a",
   "metadata": {},
   "outputs": [
    {
     "name": "stdout",
     "output_type": "stream",
     "text": [
      "RecordCollection(files-from-D:\\haveSomeTest\\data)\n"
     ]
    },
    {
     "ename": "AttributeError",
     "evalue": "'RecordCollection' object has no attribute 'coCiteNetwork'",
     "output_type": "error",
     "traceback": [
      "\u001b[1;31m---------------------------------------------------------------------------\u001b[0m",
      "\u001b[1;31mAttributeError\u001b[0m                            Traceback (most recent call last)",
      "\u001b[1;32m~\\AppData\\Local\\Temp\\ipykernel_12484\\2755946744.py\u001b[0m in \u001b[0;36m<module>\u001b[1;34m\u001b[0m\n\u001b[0;32m      2\u001b[0m \u001b[0mRC\u001b[0m \u001b[1;33m=\u001b[0m \u001b[0mmk\u001b[0m\u001b[1;33m.\u001b[0m\u001b[0mRecordCollection\u001b[0m\u001b[1;33m(\u001b[0m\u001b[1;34m\"data/\"\u001b[0m\u001b[1;33m)\u001b[0m\u001b[1;33m\u001b[0m\u001b[1;33m\u001b[0m\u001b[0m\n\u001b[0;32m      3\u001b[0m \u001b[0mprint\u001b[0m\u001b[1;33m(\u001b[0m\u001b[0mRC\u001b[0m\u001b[1;33m)\u001b[0m\u001b[1;33m\u001b[0m\u001b[1;33m\u001b[0m\u001b[0m\n\u001b[1;32m----> 4\u001b[1;33m \u001b[0mG\u001b[0m \u001b[1;33m=\u001b[0m \u001b[0mRC\u001b[0m\u001b[1;33m.\u001b[0m\u001b[0mcoCiteNetwork\u001b[0m\u001b[1;33m(\u001b[0m\u001b[0mnodeType\u001b[0m \u001b[1;33m=\u001b[0m \u001b[1;34m'journal'\u001b[0m\u001b[1;33m)\u001b[0m\u001b[1;33m\u001b[0m\u001b[1;33m\u001b[0m\u001b[0m\n\u001b[0m\u001b[0;32m      5\u001b[0m \u001b[0mprint\u001b[0m\u001b[1;33m(\u001b[0m\u001b[0mlen\u001b[0m\u001b[1;33m(\u001b[0m\u001b[0mG\u001b[0m\u001b[1;33m.\u001b[0m\u001b[0mnodes\u001b[0m\u001b[1;33m(\u001b[0m\u001b[1;33m)\u001b[0m\u001b[1;33m)\u001b[0m\u001b[1;33m)\u001b[0m\u001b[1;33m\u001b[0m\u001b[1;33m\u001b[0m\u001b[0m\n",
      "\u001b[1;31mAttributeError\u001b[0m: 'RecordCollection' object has no attribute 'coCiteNetwork'"
     ]
    }
   ],
   "source": [
    "import metaknowledge as mk\n",
    "RC = mk.RecordCollection(\"data/\")\n",
    "print(RC)\n",
    "G = RC.coCiteNetwork(nodeType = 'journal')\n",
    "print(len(G.nodes()))"
   ]
  },
  {
   "cell_type": "code",
   "execution_count": null,
   "id": "6093784e",
   "metadata": {},
   "outputs": [],
   "source": []
  }
 ],
 "metadata": {
  "kernelspec": {
   "display_name": "Python 3 (ipykernel)",
   "language": "python",
   "name": "python3"
  },
  "language_info": {
   "codemirror_mode": {
    "name": "ipython",
    "version": 3
   },
   "file_extension": ".py",
   "mimetype": "text/x-python",
   "name": "python",
   "nbconvert_exporter": "python",
   "pygments_lexer": "ipython3",
   "version": "3.7.9"
  }
 },
 "nbformat": 4,
 "nbformat_minor": 5
}
